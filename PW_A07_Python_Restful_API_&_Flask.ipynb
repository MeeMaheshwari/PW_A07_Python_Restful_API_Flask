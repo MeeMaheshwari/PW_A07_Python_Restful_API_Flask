{
  "nbformat": 4,
  "nbformat_minor": 0,
  "metadata": {
    "colab": {
      "provenance": []
    },
    "kernelspec": {
      "name": "python3",
      "display_name": "Python 3"
    },
    "language_info": {
      "name": "python"
    }
  },
  "cells": [
    {
      "cell_type": "markdown",
      "source": [
        "#Requirements\n"
      ],
      "metadata": {
        "id": "bzDtJJwBQohz"
      }
    },
    {
      "cell_type": "code",
      "source": [
        "# First Cell: Install Flask and Pyngrok\n",
        "!pip install flask\n",
        "!pip install flask-ngrok\n",
        "!pip install pyngrok"
      ],
      "metadata": {
        "colab": {
          "base_uri": "https://localhost:8080/"
        },
        "id": "65AWbJ4ORCzD",
        "outputId": "1787341d-9b7c-4af1-bb7b-e7b648da040c"
      },
      "execution_count": 1,
      "outputs": [
        {
          "output_type": "stream",
          "name": "stdout",
          "text": [
            "Requirement already satisfied: flask in /usr/local/lib/python3.11/dist-packages (3.1.1)\n",
            "Requirement already satisfied: blinker>=1.9.0 in /usr/local/lib/python3.11/dist-packages (from flask) (1.9.0)\n",
            "Requirement already satisfied: click>=8.1.3 in /usr/local/lib/python3.11/dist-packages (from flask) (8.2.1)\n",
            "Requirement already satisfied: itsdangerous>=2.2.0 in /usr/local/lib/python3.11/dist-packages (from flask) (2.2.0)\n",
            "Requirement already satisfied: jinja2>=3.1.2 in /usr/local/lib/python3.11/dist-packages (from flask) (3.1.6)\n",
            "Requirement already satisfied: markupsafe>=2.1.1 in /usr/local/lib/python3.11/dist-packages (from flask) (3.0.2)\n",
            "Requirement already satisfied: werkzeug>=3.1.0 in /usr/local/lib/python3.11/dist-packages (from flask) (3.1.3)\n",
            "Requirement already satisfied: flask-ngrok in /usr/local/lib/python3.11/dist-packages (0.0.25)\n",
            "Requirement already satisfied: Flask>=0.8 in /usr/local/lib/python3.11/dist-packages (from flask-ngrok) (3.1.1)\n",
            "Requirement already satisfied: requests in /usr/local/lib/python3.11/dist-packages (from flask-ngrok) (2.32.3)\n",
            "Requirement already satisfied: blinker>=1.9.0 in /usr/local/lib/python3.11/dist-packages (from Flask>=0.8->flask-ngrok) (1.9.0)\n",
            "Requirement already satisfied: click>=8.1.3 in /usr/local/lib/python3.11/dist-packages (from Flask>=0.8->flask-ngrok) (8.2.1)\n",
            "Requirement already satisfied: itsdangerous>=2.2.0 in /usr/local/lib/python3.11/dist-packages (from Flask>=0.8->flask-ngrok) (2.2.0)\n",
            "Requirement already satisfied: jinja2>=3.1.2 in /usr/local/lib/python3.11/dist-packages (from Flask>=0.8->flask-ngrok) (3.1.6)\n",
            "Requirement already satisfied: markupsafe>=2.1.1 in /usr/local/lib/python3.11/dist-packages (from Flask>=0.8->flask-ngrok) (3.0.2)\n",
            "Requirement already satisfied: werkzeug>=3.1.0 in /usr/local/lib/python3.11/dist-packages (from Flask>=0.8->flask-ngrok) (3.1.3)\n",
            "Requirement already satisfied: charset-normalizer<4,>=2 in /usr/local/lib/python3.11/dist-packages (from requests->flask-ngrok) (3.4.2)\n",
            "Requirement already satisfied: idna<4,>=2.5 in /usr/local/lib/python3.11/dist-packages (from requests->flask-ngrok) (3.10)\n",
            "Requirement already satisfied: urllib3<3,>=1.21.1 in /usr/local/lib/python3.11/dist-packages (from requests->flask-ngrok) (2.4.0)\n",
            "Requirement already satisfied: certifi>=2017.4.17 in /usr/local/lib/python3.11/dist-packages (from requests->flask-ngrok) (2025.6.15)\n",
            "Collecting pyngrok\n",
            "  Downloading pyngrok-7.2.11-py3-none-any.whl.metadata (9.4 kB)\n",
            "Requirement already satisfied: PyYAML>=5.1 in /usr/local/lib/python3.11/dist-packages (from pyngrok) (6.0.2)\n",
            "Downloading pyngrok-7.2.11-py3-none-any.whl (25 kB)\n",
            "Installing collected packages: pyngrok\n",
            "Successfully installed pyngrok-7.2.11\n"
          ]
        }
      ]
    },
    {
      "cell_type": "markdown",
      "source": [
        "#Theory Questions\n"
      ],
      "metadata": {
        "id": "krIQM5hcNeIR"
      }
    },
    {
      "cell_type": "markdown",
      "source": [
        "## **Q. 1 What is a RESTful API?**\n",
        "\n",
        "Answer:\n",
        "\n",
        "REST stands for Representational State Transfer.\n",
        "\n",
        "A **RESTful API** is a web-based interface that allows systems to communicate over the internet using the **HTTP protocol**, based on the **REST (Representational State Transfer)** architectural style.\n",
        "\n",
        "It enables interaction with **resources**, which are uniquely identified by **URLs**, using standard HTTP methods:\n",
        "\n",
        "* `GET` – Retrieve data\n",
        "* `POST` – Create new data\n",
        "* `PUT` – Update existing data\n",
        "* `DELETE` – Remove data\n",
        "\n",
        "---\n",
        "\n",
        "#### 🔑 **Key Characteristics of RESTful APIs:**\n",
        "\n",
        "1. **Stateless:** Each request from the client must contain all necessary information; the server does not retain session state between requests.\n",
        "\n",
        "2. **Client-Server Architecture:** The client (e.g., browser/app) and server (e.g., database/API) operate independently.\n",
        "\n",
        "3. **Cacheable:** Responses can be cached by the client or intermediate systems to improve performance.\n",
        "\n",
        "4. **Uniform Interface:** Uses consistent, standardized methods and data formats like JSON or XML.\n",
        "\n",
        "5. **Layered System:** Requests can pass through multiple layers (like firewalls, load balancers, or security layers) transparently.\n",
        "\n",
        "6. **Code on Demand (optional):** Servers can optionally send executable code (like JavaScript) to enhance client functionality.\n",
        "\n",
        "---\n",
        "\n",
        "#### 🧾 **Example API Endpoints for User Management:**\n",
        "\n",
        "* `GET /users` → Fetch all users\n",
        "* `GET /users/101` → Fetch user with ID 101\n",
        "* `POST /users` → Add a new user\n",
        "* `PUT /users/101` → Modify user 101\n",
        "* `DELETE /users/101` → Remove user 101\n",
        "\n",
        "---\n"
      ],
      "metadata": {
        "id": "Trtj2MzkNonz"
      }
    },
    {
      "cell_type": "markdown",
      "source": [
        "## **Q. 2:  Explain the concept of API specification?**\n",
        "\n",
        "Answer:\n",
        "\n",
        "- An API specification defines how clients should communicate with an API.\n",
        "\n",
        "- It includes:\n",
        "\n",
        " - Endpoints (URLs)\n",
        "\n",
        " - Methods (GET, POST, etc.)\n",
        "\n",
        " - Parameters (query/path/body)\n",
        "\n",
        " - Request/response format (JSON, XML)\n",
        "\n",
        "- Example Tool: Popular API Specification Formats:\n",
        " - OpenAPI (Swagger): Most widely used for designing and documenting REST APIs.\n",
        "\n",
        " - RAML (RESTful API Modeling Language): YAML-based format for defining APIs.\n",
        "\n",
        " - API Blueprint: Markdown-style format to write readable API documentation."
      ],
      "metadata": {
        "id": "ylFvZ8llT-3V"
      }
    },
    {
      "cell_type": "markdown",
      "source": [
        "## **Q. 3: What is Flask, and why is it popular for building APIs?**\n",
        "\n",
        "Answer:\n",
        "- Flask is a lightweight, micro web framework in Python  for building web applications and APIs.\n",
        "\n",
        "- It is lightweight and easy to use for building APIs.\n",
        "\n",
        "- Why popular:\n",
        " - Minimalistic – Small core with extensibility.\n",
        " - Easy to Learn – Simple syntax, beginner-friendly.\n",
        " - Built-in Development Server – No need for external servers.\n",
        " - Supports RESTful APIs – Works well with Flask-RESTful.\n",
        " - Flexible – No strict project structure.\n",
        " - Large Community & Extensions – Authentication, database integration, etc.\n"
      ],
      "metadata": {
        "id": "w80pNgRmWxuX"
      }
    },
    {
      "cell_type": "markdown",
      "source": [
        "## **Q. 4:   What is routing in Flask?**\n",
        "\n",
        "Answer:\n",
        "- When a user visits a URL, Flask looks at the route and runs the function linked to it.\n",
        "- Routing in Flask means connecting a URL to a function.\n",
        "- Defined using @app.route() decorator.\n",
        "- Routing in Flask refers to the process of mapping URLs to functions, which handle the request and generate a response\n",
        "\n",
        "\n",
        "\n",
        "\n"
      ],
      "metadata": {
        "id": "BTdUXr3TYXD_"
      }
    },
    {
      "cell_type": "markdown",
      "source": [
        "## **Q. 5:    How do you create a simple Flask application?**\n",
        "\n",
        "Answer:\n",
        "\n",
        "To create a basic Flask application:\n",
        "\n",
        "1. Install Flask using pip:\n",
        "\n",
        "`pip install flask`\n",
        "\n",
        "2. Create a Python file (e.g., app.py) and write the following code:\n",
        "\n",
        "\n",
        "```\n",
        "from flask import Flask\n",
        "app = Flask(__name__)\n",
        "\n",
        "@app.route('/')\n",
        "def index():\n",
        "    return \"Hello, World!\"\n",
        "\n",
        "if __name__ == '__main__':\n",
        "    app.run(debug=True)\n",
        "    \n",
        "```\n",
        "\n",
        "\n",
        "\n",
        "\n",
        "Explanation:\n",
        "\n",
        "`Flask(__name__)`: Initializes the Flask app.\n",
        "\n",
        "`@app.route('/')`: Creates a route for the home page.\n",
        "\n",
        "`debug=True`: Enables debug mode for easier development."
      ],
      "metadata": {
        "id": "1jzZIxoLaDnn"
      }
    },
    {
      "cell_type": "markdown",
      "source": [
        "## **Q. 6: What are HTTP methods used in RESTful APIs?**\n",
        "\n",
        "Answer:\n",
        "\n",
        "- GET: Retrieves data from the server without modifying it.\n",
        "\n",
        " - Example:` GET /users` → Fetch list of users.\n",
        "\n",
        "- POST: Sends new data to the server to create a resource.\n",
        "\n",
        " - Example: `POST /users` with body `{\"name\": \"Yash\"}` → Creates a new user.\n",
        "\n",
        "- PUT: Updates an existing resource entirely.\n",
        "\n",
        " - Example: `PUT /users/1` with full data → Updates user with ID 1.\n",
        "\n",
        "- PATCH: Updates part of an existing resource.\n",
        "\n",
        " - Example: `PATCH /users/1` with` {\"name\": \"Yashika\"} `→ Updates only the name.\n",
        "\n",
        "- DELETE: Deletes a specified resource.\n",
        "\n",
        " - Example: `DELETE /users/1` → Deletes user with ID 1."
      ],
      "metadata": {
        "id": "pPJOHjPEcLUM"
      }
    },
    {
      "cell_type": "markdown",
      "source": [
        "##Summary\n",
        "- Common methods:\n",
        " - GET    – To read or fetch data\n",
        " - POST   – To create new data\n",
        " - PUT    – To update existing data\n",
        " - DELETE – To delete data\n",
        " - PATCH  – To partially update data (optional)\n",
        "- Example:\n",
        " - `GET /users` → Get list of users\n",
        " - `POST /users` → Add a new user\n",
        " - `PUT /users/1` → Update user with ID 1\n",
        " - `DELETE /users/1` → Delete user with ID 1"
      ],
      "metadata": {
        "id": "ABzOOYi_olmM"
      }
    },
    {
      "cell_type": "markdown",
      "source": [
        "## **Q. 7: What is the purpose of the @app.route() decorator in Flask?**\n",
        "\n",
        "Answer:\n",
        "The @app.route() decorator is used to define the URL pattern for a specific function. It tells Flask which function should handle a particular route.\n",
        "\n",
        "It maps a URL path to a specific function.\n",
        "\n",
        "Helps Flask know which function to call when a route is accessed.\n",
        "\n",
        "The @app.route() decorator tells Flask which URL should trigger a specific function.\n",
        "\n",
        "It connects a web address (route) to the code that runs when someone visits that address.\n",
        "\n",
        "The @app.route() decorator in Flask is used to define URL routes, mapping them to specific functions that handle requests.\n",
        "\n",
        "Defines URL Endpoints → Specifies the path for a webpage or API.\n",
        "Handles Requests → Maps a function to a URL, executing it when the URL is accessed.\n",
        "Supports Multiple Routes → Allows different routes to point to different functions.\n",
        "Purpose of @app.route() Defines Routes: It binds a URL to a view function, making it accessible to users.\n",
        "\n",
        "Handles HTTP Requests: It can be configured to handle different HTTP methods (e.g., GET, POST).\n",
        "\n",
        "Simplifies Routing: Instead of manually mapping URLs to functions, @app.route() provides a clean and readable way to define routes.\n",
        "\n",
        "The @app.route() decorator in Flask is used to define URL routes, mapping them to specific functions that handle requests.\n",
        "\n",
        "Defines URL Endpoints → Specifies the path for a webpage or API.\n",
        "Handles Requests → Maps a function to a URL, executing it when the URL is accessed.\n",
        "Supports Multiple Routes → Allows different routes to point to different functions.\n",
        "\n",
        "When to Use @app.route()?\n",
        "✅ When defining web pages and API endpoints.\n",
        "✅ When handling user input and database queries.\n",
        "✅ When structuring RESTful APIs in Flask.\n",
        "\n",
        "\n",
        "\n",
        "```\n",
        "@app.route('/about')  \n",
        "def about():\n",
        "    return \"About Page\"\n",
        "```\n",
        "When users visit /about, Flask calls the about() function and returns \"About Page\".\n"
      ],
      "metadata": {
        "id": "ZwGhEhSNdyC3"
      }
    },
    {
      "cell_type": "markdown",
      "source": [
        "## **Q. 8: What is the difference between GET and POST HTTP methods?**\n",
        "\n",
        "Answer:\n",
        "\n",
        "| Feature          | GET                                   | POST                                     |\n",
        "| ---------------- | ------------------------------------- | ---------------------------------------- |\n",
        "| Purpose          | Retrieve data from the server         | Send data to the server to create/update |\n",
        "| Data Location    | Sent in the URL                       | Sent in the request body                 |\n",
        "| Visibility       | Visible in browser URL                | Hidden from URL                          |\n",
        "| Use Case Example | `GET /users?name=John`                | `POST /users` with `{\"name\": \"John\"}`    |\n",
        "| Caching          | Can be cached                         | Not cached                               |\n",
        "| Idempotency      | Yes (multiple requests = same result) | No (may create duplicates)               |\n",
        "| Bookmarked URLs  | Can be bookmarked easily              | Cannot be bookmarked                     |\n",
        "| Security         | Less secure (data in URL)             | More secure for sensitive data           |\n",
        "\n",
        "\n"
      ],
      "metadata": {
        "id": "H9hxX8GJfTJs"
      }
    },
    {
      "cell_type": "markdown",
      "source": [
        "## **Q.  9:  How do you handle errors in Flask APIs?**\n",
        "\n",
        "Answer:\n",
        "\n",
        "Flask provides several ways to handle errors gracefully in APIs, allowing you to return user-friendly messages, custom status codes, and maintain robust application behavior.\n",
        "\n",
        " 1. Using @app.errorhandler() Decorator / Error Handlers:\n",
        "  - Define custom responses for specific HTTP errors using '@app.errorhandler()'.\n",
        "\n",
        "  -  @app.errorhandler(404) def not_found(error): return {\"error\": \"Not found\"}, 404\n",
        "\n",
        "  -  This allows you to catch specific HTTP error codes (like 404 or 500) and define custom responses.\n",
        "\n",
        "\n",
        " 2. Using try-except Blocks\n",
        "   - Use Python’s built-in exception handling to catch runtime errors and return a meaningful response.\n",
        "  - Try-Except Blocks: Catch and manage exceptions in view functions.\n",
        "\n",
        "  - try: # some code except Exception as e: return {\"error\": str(e)}, 500\n",
        "\n",
        " 3. Using abort() Function\n",
        "  - abort() Function: Manually trigger HTTP errors.\n",
        "\n",
        "  - Example:   from flask import abort abort(400)\n",
        "  - Manually abort a request with a specific HTTP error code if a condition fails.\n",
        "\n",
        " 4. Logging Errors for Debugging\n",
        "\n",
        "You can log errors to the console or a file to monitor issues:"
      ],
      "metadata": {
        "id": "eCvbpg4yZmKF"
      }
    },
    {
      "cell_type": "markdown",
      "source": [
        "\n",
        "\n",
        "\n",
        "\n",
        "\n"
      ],
      "metadata": {
        "id": "T6cQ62UzZsvG"
      }
    },
    {
      "cell_type": "markdown",
      "source": [
        "* Best Practices for Error Handling in APIs:\n",
        "\n",
        "| Practice                         | Why It Matters                              |\n",
        "| -------------------------------- | ------------------------------------------- |\n",
        "| Use proper **HTTP status codes** | Helps clients understand the type of error  |\n",
        "| Return **JSON-formatted errors** | Easy to parse in frontend or other services |\n",
        "| Provide **clear error messages** | Improves API usability and debugging        |\n",
        "| Avoid exposing internal errors   | Prevents security leaks                     |\n",
        "| Log critical errors              | Useful for monitoring and maintenance       |\n",
        "\n",
        "\n",
        "**Use Flask's Built-in Error Handling** :  \n",
        "- Flask automatically provides default error responses, but they may not be user-friendly.\n",
        "\n",
        "**Define Custom Error Handlers** :  \n",
        "- You can create functions to handle specific errors (e.g., 404, 400, 500) and return a structured response, usually in JSON format.\n",
        "\n",
        "**Use HTTP Status Codes**:  \n",
        "- Proper status codes (e.g., 400 for Bad Request, 404 for Not Found, 500 for Internal Server Error) should be included in the response to help clients understand the issue.\n",
        "\n",
        "**Log Errors for Debugging** :  \n",
        "- Keeping track of errors in logs helps in debugging and maintaining the API.\n",
        "\n",
        "**Provide Meaningful Error Messages** :  \n",
        "- Instead of generic error messages, give clear descriptions of what went wrong to improve the API's usability.\n",
        "\n"
      ],
      "metadata": {
        "id": "Rg_DYWXve85n"
      }
    },
    {
      "cell_type": "markdown",
      "source": [
        "## **Q. 10:  How do you connect Flask to a SQL database?**\n",
        "\n",
        "Answer:\n",
        "\n",
        "1. **Install Required Libraries**\n",
        "\n",
        "   * Install `Flask` and `Flask-SQLAlchemy` for database integration.\n",
        "\n",
        "2. **Configure the Database URI**\n",
        "\n",
        "   * Set the connection string in `app.config` for SQLite, MySQL, or PostgreSQL.\n",
        "\n",
        "3. **Initialize SQLAlchemy**\n",
        "\n",
        "   * Create an instance of `SQLAlchemy` to manage the connection and models.\n",
        "\n",
        "4. **Define Models**\n",
        "\n",
        "   * Create Python classes that represent database tables using SQLAlchemy ORM.\n",
        "\n",
        "5. **Create the Database and Tables**\n",
        "\n",
        "   * Use SQLAlchemy to generate database tables based on the defined models.\n",
        "\n",
        "6. **Insert Data**\n",
        "\n",
        "   * Use the session object to add and commit new records to the database.\n",
        "\n",
        "7. **Query Data**\n",
        "\n",
        "   * Use model queries to fetch records, filter data, or apply conditions.\n",
        "\n",
        "8. **Database Options**\n",
        "\n",
        "   * Supports multiple databases: SQLite (local), MySQL, PostgreSQL, etc.\n",
        "\n",
        "9. **Optional: Flask-Migrate**\n",
        "\n",
        "   * Use Flask-Migrate for managing database schema changes over time.\n",
        "\n",
        "10. **Alternative: Without ORM**\n",
        "\n",
        "* You can also connect directly using `sqlite3` and manage queries manually.\n"
      ],
      "metadata": {
        "id": "HbXJhGknhLzA"
      }
    },
    {
      "cell_type": "markdown",
      "source": [
        "## **Q.11 : What is the role of Flask-SQLAlchemy?**\n",
        "\n",
        "Answer:\n",
        "\n",
        "**Flask-SQLAlchemy** is an **Object Relational Mapper (ORM)** extension for Flask that simplifies working with SQL databases using Python classes instead of writing raw SQL queries.\n",
        "\n",
        "### **Why Flask-SQLAlchemy is Used – Key Points:**\n",
        "\n",
        "1. **Simplifies Database Operations**\n",
        "\n",
        "   * Allows you to interact with the database using Python objects (classes), making code cleaner and more readable.\n",
        "\n",
        "2. **Maps Python Classes to Tables**\n",
        "\n",
        "   * Each class represents a table, and each class attribute represents a column.\n",
        "\n",
        "3. **No Need to Write Raw SQL**\n",
        "\n",
        "   * Performs database actions like insert, update, delete, and query without manual SQL queries.\n",
        "\n",
        "4. **Supports Multiple Databases**\n",
        "\n",
        "   * Works with SQLite, MySQL, PostgreSQL, and more.\n",
        "\n",
        "5. **Integrates Easily with Flask**\n",
        "\n",
        "   * Fits naturally into Flask apps and supports Flask’s configuration and context system.\n",
        "\n",
        "6. **Supports Advanced Features**\n",
        "\n",
        "   * Relationships between tables, migrations, filters, joins, and model-based queries.\n",
        "\n",
        "7. **Maintains Code Scalability**\n",
        "\n",
        "   * Helps build large, well-structured applications with clean separation between logic and data layers.\n",
        "\n",
        "8. **Works with Flask-Migrate**\n",
        "\n",
        "   * Supports automatic database schema versioning and migrations.\n",
        "\n",
        "Flask-SQLAlchemy provides a **powerful, Pythonic, and easy-to-use way** to work with SQL databases in Flask. It abstracts complex SQL operations and enables efficient database management through models and sessions.\n"
      ],
      "metadata": {
        "id": "RQiEIZtFnEMT"
      }
    },
    {
      "cell_type": "markdown",
      "source": [
        "## **Q.12 : What are Flask blueprints, and how are they useful?**\n",
        "\n",
        "Answer:\n",
        "\n",
        "A **Flask Blueprint** is a way to organize a Flask application into **modular components**. It allows you to **group related routes, templates, and static files** together, promoting cleaner code and better scalability.\n",
        "\n",
        "\n",
        "### **Key Points about Flask Blueprints:**\n",
        "\n",
        "**Flask Blueprints** are useful because they help in building **structured, scalable, and maintainable** web applications. Here's how:\n",
        "\n",
        "\n",
        "\n",
        "1. **Modularization of Code**\n",
        "\n",
        "   * Blueprints allow you to split your app into components (e.g., `auth`, `admin`, `blog`), making large apps easier to manage.\n",
        "\n",
        "2. **Improves Readability**\n",
        "\n",
        "   * Keeps your code organized by grouping related routes, templates, and logic together.\n",
        "\n",
        "3. **Reusability**\n",
        "\n",
        "   * You can reuse the same blueprint across multiple projects or apps.\n",
        "\n",
        "4. **Team Collaboration**\n",
        "\n",
        "   * Developers can work on different blueprints (modules) independently without conflicts.\n",
        "\n",
        "5. **Cleaner Application Structure**\n",
        "\n",
        "   * Keeps your `app.py` or `__init__.py` clean and focused on configuration and app startup only.\n",
        "\n",
        "6. **Centralized Routing**\n",
        "\n",
        "   * All blueprints are registered in one place, giving you better control over route management.\n",
        "\n",
        "7. **Easy Maintenance**\n",
        "\n",
        "   * Bugs and updates are easier to track and fix in small, separated blueprint files.\n",
        "\n",
        "8. **Support for Large-Scale Projects**\n",
        "\n",
        "   * Essential for scaling Flask applications with multiple functionalities or microservices.\n",
        "\n",
        "\n",
        "\n",
        "**Flask Blueprints** make your application **modular, organized, reusable**, and **easy to scale** — especially helpful as your project grows in size or complexity.\n",
        "\n",
        "\n",
        "\n",
        "\n",
        "\n",
        "\n"
      ],
      "metadata": {
        "id": "InbX2YWVnZrS"
      }
    },
    {
      "cell_type": "markdown",
      "source": [
        "## **Q.13 : What is the purpose of Flask's request object?**\n",
        "\n",
        "Answer:\n",
        "\n",
        "The `request` object in Flask is used to **access and process incoming request data** sent by the client (browser, mobile app, or API tool). It provides all the information related to the HTTP request.\n",
        "\n",
        "\n",
        "###  **Key Purposes of Flask's `request` Object:**\n",
        "\n",
        "1. **Access Request Method**\n",
        "\n",
        "   * Check whether the request is `GET`, `POST`, `PUT`, etc.\n",
        "   * Example: `request.method`\n",
        "\n",
        "2. **Retrieve Query Parameters**\n",
        "\n",
        "   * Access data sent in the URL using `request.args`\n",
        "   * Example: `/search?query=python`\n",
        "\n",
        "3. **Handle Form Data**\n",
        "\n",
        "   * Access data submitted via HTML forms using `request.form`\n",
        "\n",
        "4. **Process JSON Data**\n",
        "\n",
        "   * Get JSON payload from API clients using `request.json`\n",
        "\n",
        "5. **Read Request Headers**\n",
        "\n",
        "   * Access metadata sent with the request using `request.headers`\n",
        "\n",
        "6. **Handle File Uploads**\n",
        "\n",
        "   * Use `request.files` to access uploaded files from forms\n",
        "\n",
        "7. **Access Cookies**\n",
        "\n",
        "   * Use `request.cookies` to read browser cookies\n",
        "\n",
        "8. **Get Raw Request Body**\n",
        "\n",
        "   * Use `request.data` to get unprocessed request content (raw binary/text)\n",
        "\n",
        "Flask’s `request` object is essential for handling **user input and client data** in web applications and APIs. It gives you full control over what the client sends and allows the backend to respond accordingly.\n",
        "\n"
      ],
      "metadata": {
        "id": "Fx5UGAbMnZ1E"
      }
    },
    {
      "cell_type": "markdown",
      "source": [
        "## **Q.14 : How do you create a RESTful API endpoint using Flask?**\n",
        "\n",
        "Answer:\n",
        "\n",
        "To create a RESTful API endpoint using Flask, you define a **route** using `@app.route()` and implement the logic to **handle HTTP methods** like `GET`, `POST`, `PUT`, and `DELETE`.\n",
        "\n",
        "\n",
        "### **Steps to Create a RESTful API Endpoint in Flask:**\n",
        "\n",
        "1. **Import Required Modules**\n",
        "\n",
        "   * Import `Flask` and `request` from the Flask package.\n",
        "\n",
        "2. **Create Flask App Instance**\n",
        "\n",
        "   * Initialize your Flask application with `app = Flask(__name__)`.\n",
        "\n",
        "3. **Define an API Route**\n",
        "\n",
        "   * Use `@app.route('/endpoint', methods=['GET', 'POST', ...])` to create the endpoint.\n",
        "\n",
        "4. **Handle HTTP Methods**\n",
        "\n",
        "   * Inside the function, check the method using `request.method` and return appropriate responses.\n",
        "\n",
        "5. **Return Data in JSON Format**\n",
        "\n",
        "   * Use Python dictionaries and `Flask` will automatically convert them to JSON.\n",
        "\n",
        "6. **Run the App**\n",
        "\n",
        "   * Use `app.run()` to start the Flask development server.\n",
        "\n",
        "\n",
        "---\n",
        "\n",
        "\n",
        "            \n",
        "### 📌 **Common HTTP Methods in REST API:**\n",
        "\n",
        "| Method   | Purpose              | Example Route |\n",
        "| -------- | -------------------- | ------------- |\n",
        "| `GET`    | Retrieve data        | `/users`      |\n",
        "| `POST`   | Create new data      | `/users`      |\n",
        "| `PUT`    | Update existing data | `/users/<id>` |\n",
        "| `DELETE` | Delete data          | `/users/<id>` |\n",
        "\n",
        "Creating a RESTful API endpoint in Flask involves defining routes, handling request methods, and returning data in structured formats like JSON. This allows client-server communication in a clean and scalable way.\n",
        "\n"
      ],
      "metadata": {
        "id": "y1nyQ6zBncuF"
      }
    },
    {
      "cell_type": "markdown",
      "source": [
        "## **Q.15 : What is the purpose of Flask's jsonify() function?**\n",
        "\n",
        "Answer:\n",
        "\n",
        "\n",
        "Flask’s `jsonify()` function is used to **convert Python data (like dictionaries or lists) into JSON format** and return it as a proper HTTP response.\n",
        "\n",
        "\n",
        "### **Purpose of `jsonify()` – Key Points:**\n",
        "\n",
        "1. **Converts Python Data to JSON**\n",
        "\n",
        "   * Takes Python objects (dict, list, tuple, etc.) and converts them into a JSON-formatted HTTP response.\n",
        "\n",
        "2. **Sets Correct Content-Type**\n",
        "\n",
        "   * Automatically sets the `Content-Type` header to `application/json`, which is standard for APIs.\n",
        "\n",
        "3. **Handles Unicode and Special Characters**\n",
        "\n",
        "   * Safely encodes special characters and Unicode strings in the output.\n",
        "\n",
        "4. **Simplifies API Development**\n",
        "\n",
        "   * Makes it easy to return structured JSON data from API endpoints.\n",
        "\n",
        "5. **Ensures Valid JSON Structure**\n",
        "\n",
        "   * Avoids manual formatting errors by handling serialization internally.\n",
        "\n",
        "\n",
        "\n",
        "### ✅ **When to Use `jsonify()`:**\n",
        "\n",
        "* Returning API responses\n",
        "* Sending structured data like messages, lists, or database results\n",
        "* Replacing `return json.dumps(...)` in Flask views\n",
        "\n",
        "\n",
        "`jsonify()` in Flask is used to **send Python data as a JSON response** to the client. It ensures proper formatting and headers, making it a key tool for building RESTful APIs.\n",
        "\n",
        "\n",
        "\n"
      ],
      "metadata": {
        "id": "cD9PKIdVnc6u"
      }
    },
    {
      "cell_type": "markdown",
      "source": [
        "## **Q.16 : Explain Flask’s url_for() function?**\n",
        "\n",
        "Answer:\n",
        "\n",
        "\n",
        "Flask’s `url_for()` function is used to **generate URLs dynamically** for view functions based on their **function names**. It ensures flexibility and avoids hardcoding URLs in your application.\n",
        "\n",
        "\n",
        "### **Key Points about `url_for()`**\n",
        "\n",
        "1. **Generates URLs from Function Names**\n",
        "\n",
        "   * You pass the name of the view function to `url_for()` and it returns the correct route URL.\n",
        "\n",
        "2. **Avoids Hardcoding Paths**\n",
        "\n",
        "   * If the route path changes, `url_for()` automatically updates the link without breaking your app.\n",
        "\n",
        "3. **Supports Dynamic Parameters**\n",
        "\n",
        "   * You can pass arguments for dynamic URL parts (e.g., `/user/<id>`) and query parameters.\n",
        "\n",
        "4. **Used in Python Code & Templates**\n",
        "\n",
        "   * Commonly used in Flask views and Jinja2 HTML templates to build links and redirects.\n",
        "\n",
        "5. **Improves Maintainability**\n",
        "\n",
        "   * Reduces errors and makes the code cleaner, especially in large projects.\n",
        "\n",
        "\n",
        "\n",
        "### ✅ **Example Use Case**\n",
        "\n",
        "* Instead of writing: `/user/5`,\n",
        "\n",
        "  Use: `url_for('user_profile', user_id=5)`\n",
        "\n",
        "  → Safer and updates automatically if the route changes.\n",
        "\n",
        "\n",
        "The `url_for()` function in Flask **dynamically builds URLs** using view function names and parameters. It helps keep your application **flexible, clean, and less error-prone**.\n",
        "\n"
      ],
      "metadata": {
        "id": "HgZRJ01fndAi"
      }
    },
    {
      "cell_type": "markdown",
      "source": [
        "## **Q.17 : How does Flask handle static files (CSS, JavaScript, etc.)?**\n",
        "\n",
        "Answer:\n",
        "\n",
        "* Flask handles static files (like **CSS**, **JavaScript**, **images**, etc.) using a **dedicated folder named `static/`** in your project directory.\n",
        "* By default, Flask serves static files from the `static` folder and makes them accessible through the `/static` path.\n",
        "\n",
        "#### **Steps to use static files:**\n",
        "\n",
        "1. Create a folder named `static` in your Flask project.\n",
        "2. Place your files (e.g., `style.css`, `main.js`, `logo.png`) inside that folder.\n",
        "3. Reference those files using the `/static/filename` path or `url_for('static', filename='...')` in templates.\n",
        "\n",
        "\n",
        "####  **Example Directory Structure:**\n",
        "\n",
        "```\n",
        "my_flask_app/\n",
        "│\n",
        "├── app.py\n",
        "├── static/\n",
        "│   ├── style.css\n",
        "│   ├── script.js\n",
        "│   └── logo.png\n",
        "```\n",
        "\n",
        "#### **Why use `url_for()` with static files?**\n",
        "\n",
        "* Ensures Flask builds the correct URL dynamically.\n",
        "* Automatically handles file versioning or changes if needed.\n",
        "\n",
        "\n"
      ],
      "metadata": {
        "id": "9JzbRfDhndGr"
      }
    },
    {
      "cell_type": "markdown",
      "source": [
        "## **Q.18 : What is an API specification, and how does it help in building a Flask API?**\n",
        "\n",
        "Answer:\n",
        "\n",
        "* An **API specification** is a **detailed blueprint** that defines how an API should behave and how clients can interact with it.\n",
        "* It includes details like:\n",
        "\n",
        "  * Available endpoints (routes)\n",
        "  * HTTP methods (GET, POST, etc.)\n",
        "  * Required request parameters\n",
        "  * Request/response formats (JSON, XML)\n",
        "  * Authentication methods\n",
        "  * Expected status codes\n",
        "\n",
        "\n",
        "#### **How it helps Flask API development:**\n",
        "\n",
        "1. **Provides Clear Guidelines**\n",
        "\n",
        "   * Clearly defines what endpoints to create, what data to accept, and what responses to return.\n",
        "\n",
        "2. **Ensures Consistency**\n",
        "\n",
        "   * Keeps the structure of requests and responses uniform across all API routes.\n",
        "\n",
        "3. **Improves Team Collaboration**\n",
        "\n",
        "   * Frontend and backend teams can work independently using the spec as a shared reference.\n",
        "\n",
        "4. **Simplifies Debugging & Testing**\n",
        "\n",
        "   * Helps testers and developers verify that the API works as expected based on documented behavior.\n",
        "\n",
        "5. **Supports Auto-Documentation**\n",
        "\n",
        "   * Tools like Swagger/OpenAPI can generate interactive API docs directly from the spec.\n",
        "\n",
        "6. **Saves Development Time**\n",
        "\n",
        "   * Reduces guesswork and repeated discussions, speeding up backend development.\n",
        "\n",
        "7. **Enhances API Reliability**\n",
        "\n",
        "   * Reduces chances of errors, mismatches, or missing information in the API.\n",
        "\n",
        "8. **Useful for Validation and Security**\n",
        "\n",
        "   * Helps ensure that data formats, types, and access methods are properly handled.\n",
        "\n",
        "\n",
        "\n",
        "\n",
        "\n"
      ],
      "metadata": {
        "id": "albUUd2hozOt"
      }
    },
    {
      "cell_type": "markdown",
      "source": [
        "## **Q.19 : What are HTTP status codes, and why are they important in a Flask API?**\n",
        "\n",
        "Answer:\n",
        "\n",
        "### **What Are HTTP Status Codes?**\n",
        "\n",
        "* HTTP status codes are **3-digit numbers** sent by the server in response to a client’s request.\n",
        "* They indicate **whether the request was successful**, caused an error, or requires further action.\n",
        "* Used in **every HTTP interaction** — websites, REST APIs, web services, etc.\n",
        "\n",
        "---\n",
        "\n",
        "### **Why Are HTTP Status Codes Important in Flask APIs?**\n",
        "\n",
        "1. **Communicate Request Outcome**\n",
        "\n",
        "   * Tell the client if a request was successful, failed, or needs correction (e.g., 200 OK, 404 Not Found).\n",
        "\n",
        "2. **Enable Error Handling**\n",
        "\n",
        "   * Help frontend or API clients show proper messages or actions when something goes wrong.\n",
        "\n",
        "3. **Support RESTful Design Principles**\n",
        "\n",
        "   * REST APIs depend on proper use of status codes to follow standard API practices.\n",
        "\n",
        "4. **Improve Developer Experience**\n",
        "\n",
        "   * Make it easier for developers to understand how the API is behaving and debug faster.\n",
        "\n",
        "5. **Assist in Automation & Testing**\n",
        "\n",
        "   * Tools like Postman, curl, or automated test cases rely on status codes to validate responses.\n",
        "\n",
        "6. **Provide Feedback to Users or Clients**\n",
        "\n",
        "   * Users get meaningful feedback (like “Unauthorized” or “Server Error”) rather than generic messages.\n",
        "\n",
        "\n",
        "HTTP status codes are like **traffic signals** for the client–server communication.\n",
        "They are **essential for building clear, reliable, and user-friendly APIs** in Flask.\n",
        "\n"
      ],
      "metadata": {
        "id": "0LIumtQKndM2"
      }
    },
    {
      "cell_type": "markdown",
      "source": [
        "\n",
        "\n",
        "## **Categories of HTTP Status Codes**\n",
        "\n",
        "HTTP status codes are grouped into **5 main categories** based on the first digit of the 3-digit code:\n",
        "\n",
        "| Category | Code Range | Meaning                                                             |\n",
        "| -------- | ---------- | ------------------------------------------------------------------- |\n",
        "| **1xx**  | 100–199    | **Informational** – Request received, continue processing.          |\n",
        "| **2xx**  | 200–299    | **Success** – The request was successfully received and processed.  |\n",
        "| **3xx**  | 300–399    | **Redirection** – Further action is needed to complete the request. |\n",
        "| **4xx**  | 400–499    | **Client Errors** – The request is invalid or cannot be processed.  |\n",
        "| **5xx**  | 500–599    | **Server Errors** – The server failed to process a valid request.   |\n",
        "\n",
        "\n",
        "\n",
        "\n"
      ],
      "metadata": {
        "id": "FxRPoveNEbYs"
      }
    },
    {
      "cell_type": "markdown",
      "source": [
        "\n",
        "## **Common HTTP Status Codes in Flask APIs**\n",
        "\n",
        "| Code    | Category | Meaning               | When to Use in Flask API                                                    |\n",
        "| ------- | -------- | --------------------- | --------------------------------------------------------------------------- |\n",
        "| **200** | 2xx      | OK                    | When the request is successful and data is returned.                        |\n",
        "| **201** | 2xx      | Created               | When a new resource is successfully created (e.g., after a POST).           |\n",
        "| **204** | 2xx      | No Content            | When the request is successful but there’s no content to return.            |\n",
        "| **400** | 4xx      | Bad Request           | When the client sends invalid data or parameters.                           |\n",
        "| **401** | 4xx      | Unauthorized          | When authentication is required and has failed or is missing.               |\n",
        "| **403** | 4xx      | Forbidden             | When the client is authenticated but not authorized to access the resource. |\n",
        "| **404** | 4xx      | Not Found             | When the requested resource does not exist.                                 |\n",
        "| **405** | 4xx      | Method Not Allowed    | When the HTTP method used is not allowed for the endpoint.                  |\n",
        "| **500** | 5xx      | Internal Server Error | When the server encounters an unexpected error.                             |\n",
        "| **503** | 5xx      | Service Unavailable   | When the server is temporarily unavailable (e.g., maintenance).             |"
      ],
      "metadata": {
        "id": "I8mEC8ZPD4Yd"
      }
    },
    {
      "cell_type": "markdown",
      "source": [
        "## **Q.20 : How do you handle POST requests in Flask?**\n",
        "\n",
        "Answer:\n",
        "\n",
        "\n",
        "In Flask, **POST requests** are handled to **receive and process data sent by the client**, such as form data or JSON. You define a route with the `POST` method and use the `request` object to access incoming data.\n",
        "\n",
        "\n",
        "\n",
        "###   **Steps to Handle POST Requests in Flask:**\n",
        "\n",
        "1. **Define a Route with POST Method**\n",
        "\n",
        "   * Use `@app.route('/submit', methods=['POST'])` to create a POST endpoint.\n",
        "\n",
        "2. **Use `request` Object to Access Data**\n",
        "\n",
        "   * Flask provides the `request` object to get data from:\n",
        "\n",
        "     * `request.form` → For HTML form data\n",
        "     * `request.json` → For JSON data\n",
        "     * `request.data` → For raw binary/text data\n",
        "\n",
        "3. **Validate the Input**\n",
        "\n",
        "   * Check for required fields or validate data types before processing.\n",
        "\n",
        "4. **Process and Store Data**\n",
        "\n",
        "   * Use the data to update databases, perform calculations, or trigger actions.\n",
        "\n",
        "5. **Return a Response**\n",
        "\n",
        "   * Send a confirmation message or result using `jsonify()` and appropriate status code (e.g., `201 Created`).\n",
        "\n",
        "\n",
        "\n",
        "### ✅ **Why POST is Used in APIs:**\n",
        "\n",
        "* To **create** new resources (e.g., user registration, form submission)\n",
        "* To **send** sensitive or large data that shouldn’t appear in the URL\n",
        "* To **secure** data transmission (used with HTTPS)\n",
        "\n",
        "\n",
        ""
      ],
      "metadata": {
        "id": "GWtczjSPndTv"
      }
    },
    {
      "cell_type": "markdown",
      "source": [
        "## **Q.21 : How would you secure a Flask API?**\n",
        "\n",
        "*Answer:*\n",
        "\n",
        "\n",
        "* Use **HTTPS** to encrypt data transfer.\n",
        "* Implement **Authentication** (JWT, OAuth2, API Keys).\n",
        "* Enable **Authorization** to restrict access to specific users/roles.\n",
        "* Apply **Input Validation** to prevent injections (SQL/XSS).\n",
        "* Add **Rate Limiting** to prevent abuse (e.g., `Flask-Limiter`).\n",
        "* Use **CORS** to control which domains can access your API.\n",
        "* Set **Strong Secret Keys** for sessions and tokens.\n",
        "* **Hide sensitive data** in responses and logs.\n",
        "* Return **generic error messages**, not stack traces.\n",
        "* Use security extensions: `Flask-JWT-Extended`, `Flask-CORS`, `Flask-Talisman`.\n"
      ],
      "metadata": {
        "id": "ADV1QCtlndad"
      }
    },
    {
      "cell_type": "markdown",
      "source": [
        "## **Q.22 : What is the significance of the Flask-RESTful extension?**\n",
        "\n",
        "*Answer:*\n",
        "\n",
        "* **Flask-RESTful** is an extension for Flask that simplifies the creation of **REST APIs**.\n",
        "* It provides a clean and structured way to define API resources using **class-based views**.\n",
        "\n",
        "#### **Key Significance:**\n",
        "\n",
        "* Makes APIs **more organized** using `Resource` classes.\n",
        "* Supports **multiple HTTP methods** (`GET`, `POST`, etc.) in a single class.\n",
        "* Simplifies **request parsing** using `reqparse`.\n",
        "* Helps in building **scalable and modular APIs**.\n",
        "* Integrates well with **Flask and Flask-SQLAlchemy**."
      ],
      "metadata": {
        "id": "GqCVKTs3pUoK"
      }
    },
    {
      "cell_type": "markdown",
      "source": [
        "## **Q.23 : What is the role of Flask’s session object?**\n",
        "\n",
        "*Answer:*\n",
        "\n",
        "Flask’s `session` object is used to **store information about a user across multiple requests**. It allows temporary data (like login info) to persist between page visits.\n",
        "\n",
        "\n",
        "### **Key Features of Flask’s `session` Object:**\n",
        "\n",
        "1. **Stores User-Specific Data**\n",
        "\n",
        "   * Stores small pieces of data like username, user ID, or shopping cart contents during a user’s visit.\n",
        "\n",
        "2. **Works Across Multiple Requests**\n",
        "\n",
        "   * Keeps data available across pages, even if the user moves between different routes.\n",
        "\n",
        "3. **Backed by Secure Cookies**\n",
        "\n",
        "   * Flask stores session data on the client side in a cookie, but it’s **signed** to prevent tampering.\n",
        "\n",
        "4. **Session is Temporary**\n",
        "\n",
        "   * The data is stored temporarily and is cleared when the user closes the browser (unless customized).\n",
        "\n",
        "5. **Modifiable Like a Dictionary**\n",
        "\n",
        "   * The `session` object works like a Python dictionary: `session['key'] = value`.\n",
        "\n",
        "6. **Requires Secret Key**\n",
        "\n",
        "   * Flask needs a `SECRET_KEY` to securely sign session data and prevent tampering.\n",
        "\n",
        "7. **Useful for Login Systems**\n",
        "\n",
        "   * Commonly used to remember whether a user is logged in or not.\n",
        "\n",
        "#### **Common Use Cases:**\n",
        "\n",
        "* User login sessions\n",
        "* Flash messaging\n",
        "* Storing temporary data like selected items\n",
        "\n",
        "\n"
      ],
      "metadata": {
        "id": "z1bWAHk_o6Bc"
      }
    },
    {
      "cell_type": "markdown",
      "source": [
        "#Practical Questions\n"
      ],
      "metadata": {
        "id": "yRtbANeXNeTk"
      }
    },
    {
      "cell_type": "markdown",
      "source": [
        "**Q.1 :  How do you create a basic Flask application**"
      ],
      "metadata": {
        "id": "o7HjOmCapjqz"
      }
    },
    {
      "cell_type": "code",
      "source": [
        "# Step 1: Import Flask\n",
        "from flask import Flask\n",
        "\n",
        "# Step 2: Create a Flask app instance\n",
        "app = Flask(__name__)\n",
        "\n",
        "# Step 3: Define a route and associate it with a function\n",
        "@app.route('/')\n",
        "def home():\n",
        "    return \"Hello, this is a basic Flask app!\"  # Output shown when visiting http://localhost:5000/\n",
        "\n",
        "# Step 4: Run the app\n",
        "if __name__ == '__main__':\n",
        "    app.run(debug=True)\n",
        "\n",
        "# Output:\n",
        "# When the server runs, open http://127.0.0.1:5000 in browser\n",
        "# You'll see: Hello, this is a basic Flask app!\n"
      ],
      "metadata": {
        "id": "3I7LtZZerXZV"
      },
      "execution_count": null,
      "outputs": []
    },
    {
      "cell_type": "markdown",
      "source": [
        "**Q.2 :  How do you serve static files like images or CSS in Flask**"
      ],
      "metadata": {
        "id": "O86-12VJrcys"
      }
    },
    {
      "cell_type": "code",
      "source": [
        "# Import necessary modules\n",
        "from flask import Flask, url_for\n",
        "\n",
        "# Create Flask app instance\n",
        "app = Flask(__name__)\n",
        "\n",
        "# Define a route for home page\n",
        "@app.route('/')\n",
        "def home():\n",
        "    # Generate URL for static CSS file\n",
        "    css_url = url_for('static', filename='style.css')\n",
        "    # Generate URL for static image file\n",
        "    image_url = url_for('static', filename='logo.png')\n",
        "\n",
        "    # Return HTML that uses the static CSS and image\n",
        "    return f'''\n",
        "    <html>\n",
        "        <head>\n",
        "            <title>Static File Demo</title>\n",
        "            <!-- Link to CSS file inside static folder -->\n",
        "            <link rel=\"stylesheet\" type=\"text/css\" href=\"{css_url}\">\n",
        "        </head>\n",
        "        <body>\n",
        "            <h1>Serving Static Files in Flask</h1>\n",
        "            <!-- Display image from static folder -->\n",
        "            <img src=\"{image_url}\" alt=\"Logo\" width=\"200\">\n",
        "        </body>\n",
        "    </html>\n",
        "    '''\n",
        "\n",
        "# Run the Flask app\n",
        "if __name__ == '__main__':\n",
        "    app.run(debug=True)\n",
        "\n",
        "# Output:\n",
        "# Visiting http://127.0.0.1:5000 will show a styled page with a heading and an image loaded from the 'static' folder\n"
      ],
      "metadata": {
        "id": "gTrUGh1rskMa"
      },
      "execution_count": null,
      "outputs": []
    },
    {
      "cell_type": "code",
      "source": [
        "#project Structure\n",
        "my_project/\n",
        "├── app.py\n",
        "├── static/\n",
        "│   ├── style.css\n",
        "│   └── logo.png\n"
      ],
      "metadata": {
        "id": "afZ9F1xQsHtD"
      },
      "execution_count": null,
      "outputs": []
    },
    {
      "cell_type": "code",
      "source": [
        "# Sample style.css (inside static folder):\n",
        "body {\n",
        "    background-color: #f5f5f5;\n",
        "    font-family: Arial, sans-serif;\n",
        "    text-align: center;\n",
        "}\n",
        "\n",
        "h1 {\n",
        "    color: #4CAF50;\n",
        "}\n"
      ],
      "metadata": {
        "id": "6JinGHN-tCqT"
      },
      "execution_count": null,
      "outputs": []
    },
    {
      "cell_type": "markdown",
      "source": [
        "**Q.3 :  How do you define different routes with different HTTP methods in Flask**"
      ],
      "metadata": {
        "id": "fd7AqIpQrfw8"
      }
    },
    {
      "cell_type": "code",
      "source": [
        "# Import necessary modules\n",
        "from flask import Flask, request, jsonify\n",
        "\n",
        "# Initialize Flask app\n",
        "app = Flask(__name__)\n",
        "\n",
        "# Route that accepts only GET requests\n",
        "@app.route('/get-example', methods=['GET'])\n",
        "def get_example():\n",
        "    return jsonify({\"message\": \"This is a GET request\"})\n",
        "\n",
        "# Route that accepts only POST requests\n",
        "@app.route('/post-example', methods=['POST'])\n",
        "def post_example():\n",
        "    # Get JSON data from the request body\n",
        "    data = request.get_json()\n",
        "    return jsonify({\"received\": data}), 201  # HTTP 201 = Created\n",
        "\n",
        "# Route that supports both GET and POST methods\n",
        "@app.route('/multi-method', methods=['GET', 'POST'])\n",
        "def multi_method():\n",
        "    if request.method == 'GET':\n",
        "        return jsonify({\"method\": \"GET\", \"message\": \"You used GET method\"})\n",
        "    elif request.method == 'POST':\n",
        "        posted_data = request.get_json()\n",
        "        return jsonify({\"method\": \"POST\", \"received_data\": posted_data})\n",
        "\n",
        "# Run the Flask app\n",
        "if __name__ == '__main__':\n",
        "    app.run(debug=True)\n",
        "\n",
        "# Output:\n",
        "# 1. GET /get-example → {\"message\": \"This is a GET request\"}\n",
        "# 2. POST /post-example with JSON → {\"received\": {\"key\": \"value\"}}\n",
        "# 3. GET or POST /multi-method → responds accordingly\n"
      ],
      "metadata": {
        "id": "jFZ-G_HFtaBa"
      },
      "execution_count": null,
      "outputs": []
    },
    {
      "cell_type": "code",
      "source": [
        "#Test Example for POST (use Postman or curl):\n",
        "POST http://127.0.0.1:5000/post-example\n",
        "Content-Type: application/json\n",
        "Body:\n",
        "{\n",
        "  \"username\": \"student\",\n",
        "  \"score\": 99\n",
        "}\n"
      ],
      "metadata": {
        "id": "dVXP-oZcteTK"
      },
      "execution_count": null,
      "outputs": []
    },
    {
      "cell_type": "code",
      "source": [
        "#Response:\n",
        " {\n",
        "  \"received\": {\n",
        "    \"username\": \"student\",\n",
        "    \"score\": 99\n",
        "  }\n",
        "}\n"
      ],
      "metadata": {
        "id": "9Iy9-u3Ptj-D"
      },
      "execution_count": null,
      "outputs": []
    },
    {
      "cell_type": "markdown",
      "source": [
        "**Q.4 :  How do you render HTML templates in Flask**"
      ],
      "metadata": {
        "id": "OMW2S4Rrrjm8"
      }
    },
    {
      "cell_type": "markdown",
      "source": [
        " **Steps:**\n",
        "\n",
        "1. Create a folder named `templates/` in your Flask project directory.\n",
        "2. Add your HTML file (e.g., `index.html`) inside the `templates/` folder.\n",
        "3. Use `render_template()` in your Flask route to render the HTML file and pass data.\n",
        "\n",
        "\n",
        "\n",
        "### ✅ Summary:\n",
        "\n",
        "| Step | Description                                     |\n",
        "| ---- | ----------------------------------------------- |\n",
        "| 1️⃣  | Place all HTML files in the `templates/` folder |\n",
        "| 2️⃣  | Use `render_template('file.html', key=value)`   |\n",
        "| 3️⃣  | Access that value inside HTML using `{{ key }}` |\n",
        "\n"
      ],
      "metadata": {
        "id": "AULXnZirt4ws"
      }
    },
    {
      "cell_type": "code",
      "source": [
        "# Import Flask and render_template\n",
        "from flask import Flask, render_template\n",
        "\n",
        "# Create Flask application\n",
        "app = Flask(__name__)\n",
        "\n",
        "# Define route to render the HTML template\n",
        "@app.route('/')\n",
        "def home():\n",
        "    # Pass 'name' variable to the template\n",
        "    return render_template('index.html', name='Alice')\n",
        "\n",
        "# Run the app\n",
        "if __name__ == '__main__':\n",
        "    app.run(debug=True)\n",
        "\n",
        "# Output:\n",
        "# Visiting http://127.0.0.1:5000/ will display:\n",
        "# Hello, Alice!\n"
      ],
      "metadata": {
        "id": "54Ktiz9fuCTQ"
      },
      "execution_count": null,
      "outputs": []
    },
    {
      "cell_type": "code",
      "source": [
        "### HTML Template (templates/index.html):\n",
        "html\n",
        "<!DOCTYPE html>\n",
        "<html>\n",
        "<head>\n",
        "    <title>Home</title>\n",
        "</head>\n",
        "<body>\n",
        "    <h1>Hello, {{ name }}!</h1>  <!-- This renders the value passed from Flask -->\n",
        "</body>\n",
        "</html>"
      ],
      "metadata": {
        "id": "vdPA0Y9ctqRb"
      },
      "execution_count": null,
      "outputs": []
    },
    {
      "cell_type": "markdown",
      "source": [
        "**Q.5 :  How can you generate URLs for routes in Flask using url_for**"
      ],
      "metadata": {
        "id": "n3lzIM2BrmFf"
      }
    },
    {
      "cell_type": "code",
      "source": [
        "from flask import Flask, url_for, redirect\n",
        "\n",
        "# Initialize Flask application\n",
        "app = Flask(__name__)\n",
        "\n",
        "# Simple route\n",
        "@app.route('/about')\n",
        "def about():\n",
        "    return \"This is the About page.\"  # Output: This is the About page.\n",
        "\n",
        "# Route that redirects to another using url_for\n",
        "@app.route('/go-to-about')\n",
        "def go_to_about():\n",
        "    # url_for dynamically generates the URL for 'about' route\n",
        "    return redirect(url_for('about'))\n",
        "\n",
        "# Route with dynamic parameter\n",
        "@app.route('/hello/<name>')\n",
        "def hello(name):\n",
        "    return f\"Hello, {name}!\"  # Output: Hello, John!\n",
        "\n",
        "# Route that uses url_for to create a link to a dynamic route\n",
        "@app.route('/')\n",
        "def index():\n",
        "    # Generate a URL for the hello() route with name='John'\n",
        "    hello_url = url_for('hello', name='John')\n",
        "    return f'<a href=\"{hello_url}\">Go to Hello Page</a>'\n",
        "\n",
        "# Run the app\n",
        "if __name__ == '__main__':\n",
        "    app.run(debug=True)\n",
        "\n",
        "# Output:\n",
        "# 1. Visit /go-to-about → Redirects to /about\n",
        "# 2. Visit /           → Shows link: Go to Hello Page\n",
        "# 3. Click link        → Goes to /hello/John and shows: Hello, John!\n"
      ],
      "metadata": {
        "id": "ueDH-oe0u8aA"
      },
      "execution_count": null,
      "outputs": []
    },
    {
      "cell_type": "markdown",
      "source": [
        "**Q.6 :  How do you handle forms in Flask**"
      ],
      "metadata": {
        "id": "915TTRzqro6M"
      }
    },
    {
      "cell_type": "code",
      "source": [
        "from flask import Flask, request, render_template_string\n",
        "\n",
        "# Initialize the Flask application\n",
        "app = Flask(__name__)\n",
        "\n",
        "# HTML form template (inline using render_template_string)\n",
        "form_html = '''\n",
        "<!DOCTYPE html>\n",
        "<html>\n",
        "<head>\n",
        "    <title>Flask Form Example</title>\n",
        "</head>\n",
        "<body>\n",
        "    <h2>Enter your name:</h2>\n",
        "    <form method=\"POST\">\n",
        "        <input type=\"text\" name=\"username\" placeholder=\"Your Name\">\n",
        "        <input type=\"submit\" value=\"Submit\">\n",
        "    </form>\n",
        "    {% if name %}\n",
        "        <h3>Hello, {{ name }}!</h3>\n",
        "    {% endif %}\n",
        "</body>\n",
        "</html>\n",
        "'''\n",
        "\n",
        "@app.route('/form', methods=['GET', 'POST'])\n",
        "def form_example():\n",
        "    name = None  # Initialize name to None\n",
        "    if request.method == 'POST':\n",
        "        # Access form data using request.form\n",
        "        name = request.form.get('username')\n",
        "    return render_template_string(form_html, name=name)\n",
        "\n",
        "# Run the Flask app\n",
        "if __name__ == '__main__':\n",
        "    app.run(debug=True)\n",
        "\n",
        "# Output:\n",
        "# 1. Visit http://127.0.0.1:5000/form\n",
        "# 2. Fill the form with a name and submit\n",
        "# 3. You’ll see: Hello, [your_name]!\n"
      ],
      "metadata": {
        "id": "8E5XXiwivQVm"
      },
      "execution_count": null,
      "outputs": []
    },
    {
      "cell_type": "markdown",
      "source": [
        "**Q.7 : How can you validate form data in Flask**"
      ],
      "metadata": {
        "id": "AsrtD6QJrrvX"
      }
    },
    {
      "cell_type": "code",
      "source": [
        "from flask import Flask, render_template_string, request\n",
        "from flask_wtf import FlaskForm\n",
        "from wtforms import StringField, PasswordField\n",
        "from wtforms.validators import DataRequired, Email, Length\n",
        "\n",
        "# Initialize app and secret key for form security\n",
        "app = Flask(__name__)\n",
        "app.secret_key = 'your_secret_key'  # Required for CSRF protection\n",
        "\n",
        "# Define the form class with validation rules\n",
        "class LoginForm(FlaskForm):\n",
        "    email = StringField('Email', validators=[DataRequired(), Email()])\n",
        "    password = PasswordField('Password', validators=[DataRequired(), Length(min=6)])\n",
        "\n",
        "# Inline template string for rendering the form\n",
        "form_template = '''\n",
        "<form method=\"POST\">\n",
        "    {{ form.hidden_tag() }}\n",
        "    {{ form.email.label }} {{ form.email(size=32) }}<br>\n",
        "    {{ form.password.label }} {{ form.password(size=32) }}<br>\n",
        "    <input type=\"submit\" value=\"Login\">\n",
        "</form>\n",
        "{% for field, errors in form.errors.items() %}\n",
        "    {% for error in errors %}\n",
        "        <p style=\"color:red;\">{{ error }}</p>\n",
        "    {% endfor %}\n",
        "{% endfor %}\n",
        "'''\n",
        "\n",
        "@app.route('/login', methods=['GET', 'POST'])\n",
        "def login():\n",
        "    form = LoginForm()\n",
        "    if form.validate_on_submit():\n",
        "        return \"Login successful!\"\n",
        "    return render_template_string(form_template, form=form)\n",
        "\n",
        "if __name__ == '__main__':\n",
        "    app.run(debug=True)\n",
        "\n",
        "# Output:\n",
        "# - Displays validation errors if input is invalid\n",
        "# - Shows 'Login successful!' if all data is valid\n"
      ],
      "metadata": {
        "id": "HrGxIkTJveUq"
      },
      "execution_count": null,
      "outputs": []
    },
    {
      "cell_type": "markdown",
      "source": [
        "**Q.8 :  How do you manage sessions in Flask**"
      ],
      "metadata": {
        "id": "8OVdhciIrvWa"
      }
    },
    {
      "cell_type": "code",
      "source": [
        "from flask import Flask, session, redirect, url_for, request, render_template_string\n",
        "\n",
        "# Initialize Flask app\n",
        "app = Flask(__name__)\n",
        "app.secret_key = 'mysecretkey'  # Required to use session securely\n",
        "\n",
        "# Inline HTML form template\n",
        "login_form = '''\n",
        "<!DOCTYPE html>\n",
        "<html>\n",
        "<head><title>Login</title></head>\n",
        "<body>\n",
        "    <h2>Login Form</h2>\n",
        "    <form method=\"POST\">\n",
        "        Name: <input type=\"text\" name=\"username\"><br><br>\n",
        "        Age: <input type=\"number\" name=\"age\"><br><br>\n",
        "        <input type=\"submit\" value=\"Login\">\n",
        "    </form>\n",
        "</body>\n",
        "</html>\n",
        "'''\n",
        "\n",
        "@app.route('/')\n",
        "def home():\n",
        "    # Check if user is logged in using session\n",
        "    if 'username' in session:\n",
        "        return f'''\n",
        "            <h2>Welcome, {session[\"username\"]}!</h2>\n",
        "            <p>Your age is {session[\"age\"]}</p>\n",
        "            <a href=\"/logout\">Logout</a>\n",
        "        '''\n",
        "    return '''\n",
        "        <h2>You are not logged in.</h2>\n",
        "        <a href=\"/login\">Login Here</a>\n",
        "    '''\n",
        "\n",
        "@app.route('/login', methods=['GET', 'POST'])\n",
        "def login():\n",
        "    if request.method == 'POST':\n",
        "        # Store form data in session variables\n",
        "        session['username'] = request.form['username']\n",
        "        session['age'] = request.form['age']\n",
        "        return redirect(url_for('home'))\n",
        "    return render_template_string(login_form)\n",
        "\n",
        "@app.route('/logout')\n",
        "def logout():\n",
        "    # Remove session data to log out user\n",
        "    session.pop('username', None)\n",
        "    session.pop('age', None)\n",
        "    return redirect(url_for('home'))\n",
        "\n",
        "if __name__ == '__main__':\n",
        "    app.run(debug=True)\n",
        "\n",
        "# Output:\n",
        "# 1. Visiting /login shows a login form.\n",
        "# 2. After submitting, you're redirected to home and greeted.\n",
        "# 3. Logout clears session data and returns to login link."
      ],
      "metadata": {
        "id": "Z89rfgbTv5q1"
      },
      "execution_count": null,
      "outputs": []
    },
    {
      "cell_type": "markdown",
      "source": [
        "**Q.9 :  How do you redirect to a different route in Flask**"
      ],
      "metadata": {
        "id": "sC45jJ6yrySQ"
      }
    },
    {
      "cell_type": "code",
      "source": [
        "from flask import Flask, redirect, url_for\n",
        "\n",
        "# Initialize Flask app\n",
        "app = Flask(__name__)\n",
        "\n",
        "# Home route\n",
        "@app.route('/')\n",
        "def home():\n",
        "    return 'Welcome to the Home Page!'  # Output when user lands on '/'\n",
        "\n",
        "# About route\n",
        "@app.route('/about')\n",
        "def about():\n",
        "    return 'This is the About Page.'  # Output when redirected to '/about'\n",
        "\n",
        "# Route that redirects to the 'about' page\n",
        "@app.route('/go-to-about')\n",
        "def go_to_about():\n",
        "    # Use url_for() to generate the URL and redirect to it\n",
        "    return redirect(url_for('about'))\n",
        "\n",
        "# Run the app\n",
        "if __name__ == '__main__':\n",
        "    app.run(debug=True)\n",
        "\n",
        "# Output:\n",
        "# 1. Visiting /go-to-about → Redirects to /about\n",
        "# 2. Visiting /about → Displays \"This is the About Page.\"\n",
        "# 3. Visiting / → Shows Home Page message\n"
      ],
      "metadata": {
        "id": "95YF_ZeYwL0E"
      },
      "execution_count": null,
      "outputs": []
    },
    {
      "cell_type": "markdown",
      "source": [
        "**Q.10 :  How do you handle errors in Flask (e.g., 404)**"
      ],
      "metadata": {
        "id": "qa0E13-Dr1wS"
      }
    },
    {
      "cell_type": "code",
      "source": [
        "from flask import Flask\n",
        "\n",
        "# Initialize Flask app\n",
        "app = Flask(__name__)\n",
        "\n",
        "# Home route\n",
        "@app.route('/')\n",
        "def home():\n",
        "    return \"Welcome to the Home Page!\"  # Output when visiting '/'\n",
        "\n",
        "# Custom error handler for 404 Not Found\n",
        "@app.errorhandler(404)\n",
        "def page_not_found(e):\n",
        "    # Return a custom message and the 404 status code\n",
        "    return \"Oops! Page not found (404).\", 404\n",
        "\n",
        "# Run the Flask app\n",
        "if __name__ == '__main__':\n",
        "    app.run(debug=True)\n",
        "\n",
        "# Output:\n",
        "# 1. Visiting / → \"Welcome to the Home Page!\"\n",
        "# 2. Visiting /unknown → \"Oops! Page not found (404).\"\n"
      ],
      "metadata": {
        "id": "QaZdItmpwY-m"
      },
      "execution_count": null,
      "outputs": []
    },
    {
      "cell_type": "markdown",
      "source": [
        "**Q.11 :  How do you structure a Flask app using Blueprints**"
      ],
      "metadata": {
        "id": "eqvaf9-Tr37Y"
      }
    },
    {
      "cell_type": "code",
      "source": [
        "# user_routes.py\n",
        "from flask import Blueprint\n",
        "\n",
        "# Create a Blueprint object\n",
        "user_bp = Blueprint('user', __name__)\n",
        "\n",
        "# Define routes under this blueprint\n",
        "@user_bp.route('/profile')\n",
        "def profile():\n",
        "    return \"This is the user profile page.\"  # Output: Page under /user/profile\n"
      ],
      "metadata": {
        "id": "RcyetQ9hw_vT"
      },
      "execution_count": null,
      "outputs": []
    },
    {
      "cell_type": "code",
      "source": [
        "# app.py\n",
        "from flask import Flask\n",
        "from user_routes import user_bp  # Import the blueprint\n",
        "\n",
        "app = Flask(__name__)\n",
        "\n",
        "# Register the blueprint with a URL prefix\n",
        "app.register_blueprint(user_bp, url_prefix='/user')\n",
        "\n",
        "# Main route\n",
        "@app.route('/')\n",
        "def home():\n",
        "    return \"Welcome to the main page.\"\n",
        "\n",
        "if __name__ == '__main__':\n",
        "    app.run(debug=True)\n",
        "\n",
        "# Output:\n",
        "# - Visiting / → \"Welcome to the main page.\"\n",
        "# - Visiting /user/profile → \"This is the user profile page.\"\n"
      ],
      "metadata": {
        "id": "C_3m7BKfxCKU"
      },
      "execution_count": null,
      "outputs": []
    },
    {
      "cell_type": "code",
      "source": [
        "project/\n",
        "├── app.py\n",
        "└── user_routes.py\n"
      ],
      "metadata": {
        "id": "-BlGo4nxxCoX"
      },
      "execution_count": null,
      "outputs": []
    },
    {
      "cell_type": "markdown",
      "source": [
        "**Q.12 :  How do you define a custom Jinja filter in Flask**"
      ],
      "metadata": {
        "id": "9cNo5AxPr7Af"
      }
    },
    {
      "cell_type": "code",
      "source": [
        "from flask import Flask, render_template_string\n",
        "\n",
        "# Initialize Flask app\n",
        "app = Flask(__name__)\n",
        "\n",
        "# Step 1: Define a custom Jinja filter function\n",
        "def reverse_string(s):\n",
        "    return s[::-1]  # Reverses the input string\n",
        "\n",
        "# Step 2: Register the custom filter with Flask's Jinja environment\n",
        "app.jinja_env.filters['reverse'] = reverse_string\n",
        "\n",
        "# Step 3: Use the custom filter in a route with render_template_string\n",
        "@app.route('/')\n",
        "def home():\n",
        "    return render_template_string(\"Original: 'hello' → Reversed: {{ 'hello' | reverse }}\")\n",
        "\n",
        "# Run the Flask app\n",
        "if __name__ == '__main__':\n",
        "    app.run(debug=True)\n",
        "\n",
        "# Output:\n",
        "# When you visit http://127.0.0.1:5000/\n",
        "# You will see: Original: 'hello' → Reversed: olleh\n"
      ],
      "metadata": {
        "id": "bvS60xgNxFfY"
      },
      "execution_count": null,
      "outputs": []
    },
    {
      "cell_type": "markdown",
      "source": [
        "**Q.13 :  How can you redirect with query parameters in Flask**"
      ],
      "metadata": {
        "id": "0ZJtmFHtr8Rb"
      }
    },
    {
      "cell_type": "code",
      "source": [
        "from flask import Flask, redirect, url_for, request\n",
        "\n",
        "# Initialize Flask app\n",
        "app = Flask(__name__)\n",
        "\n",
        "# Route to handle the search page and extract query parameter\n",
        "@app.route('/search')\n",
        "def search():\n",
        "    query = request.args.get('q')  # Get query parameter 'q' from URL\n",
        "    if query:\n",
        "        return f\"Search results for: {query}\"\n",
        "    return \"No search query provided.\"\n",
        "\n",
        "# Route to redirect to /search with a query parameter\n",
        "@app.route('/go-search')\n",
        "def go_search():\n",
        "    # url_for can add query parameters using keyword arguments\n",
        "    return redirect(url_for('search', q='flask'))\n",
        "\n",
        "# Run the Flask app\n",
        "if __name__ == '__main__':\n",
        "    app.run(debug=True)\n",
        "\n",
        "# Output:\n",
        "# Visiting /go-search → redirects to /search?q=flask\n",
        "# Visiting /search?q=flask → shows: \"Search results for: flask\"\n"
      ],
      "metadata": {
        "id": "e3SsGggNxTMt"
      },
      "execution_count": null,
      "outputs": []
    },
    {
      "cell_type": "markdown",
      "source": [
        "**Q.14 :  How do you return JSON responses in Flask**"
      ],
      "metadata": {
        "id": "BtVKd9-Cwqz0"
      }
    },
    {
      "cell_type": "code",
      "source": [
        "from flask import Flask, jsonify\n",
        "\n",
        "# Initialize Flask app\n",
        "app = Flask(__name__)\n",
        "\n",
        "# Route that returns JSON data\n",
        "@app.route('/data')\n",
        "def data():\n",
        "    # Define a Python dictionary\n",
        "    info = {\n",
        "        \"name\": \"Alice\",\n",
        "        \"age\": 25,\n",
        "        \"city\": \"New York\"\n",
        "    }\n",
        "\n",
        "    # Use jsonify() to convert it into a proper JSON HTTP response\n",
        "    return jsonify(info)\n",
        "\n",
        "# Run the Flask app\n",
        "if __name__ == '__main__':\n",
        "    app.run(debug=True)\n",
        "\n",
        "# Output:\n",
        "# Visiting http://127.0.0.1:5000/data will return:\n",
        "# {\n",
        "#   \"name\": \"Alice\",\n",
        "#   \"age\": 25,\n",
        "#   \"city\": \"New York\"\n",
        "# }\n"
      ],
      "metadata": {
        "id": "gLsHJJTBzvks"
      },
      "execution_count": null,
      "outputs": []
    },
    {
      "cell_type": "markdown",
      "source": [
        "**Q.15 :  How do you capture URL parameters in Flask**"
      ],
      "metadata": {
        "id": "zfyZaBILwrJb"
      }
    },
    {
      "cell_type": "code",
      "source": [
        "from flask import Flask\n",
        "\n",
        "# Initialize Flask app\n",
        "app = Flask(__name__)\n",
        "\n",
        "# Route that captures a string from the URL\n",
        "@app.route('/user/<username>')\n",
        "def show_user(username):\n",
        "    # Returns a greeting using the captured username\n",
        "    return f\"Hello, {username}!\"  # Example: /user/John → Hello, John!\n",
        "\n",
        "# Route that captures an integer from the URL\n",
        "@app.route('/post/<int:post_id>')\n",
        "def show_post(post_id):\n",
        "    # Displays the post number\n",
        "    return f\"Showing post number {post_id}\"  # Example: /post/5 → Showing post number 5\n",
        "\n",
        "# Run the app\n",
        "if __name__ == '__main__':\n",
        "    app.run(debug=True)\n"
      ],
      "metadata": {
        "id": "WhMjCMGFzwws"
      },
      "execution_count": null,
      "outputs": []
    }
  ]
}